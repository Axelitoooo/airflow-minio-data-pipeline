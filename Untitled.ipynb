{
 "cells": [
  {
   "cell_type": "code",
   "execution_count": 1,
   "id": "bf339d69-5034-44fe-aba1-c9b57d2bcbe4",
   "metadata": {},
   "outputs": [
    {
     "name": "stdout",
     "output_type": "stream",
     "text": [
      "Connexion réussie à la base de données\n"
     ]
    }
   ],
   "source": [
    "# Importer les bibliothèques nécessaires\n",
    "from sqlalchemy import create_engine\n",
    "import pandas as pd\n",
    "\n",
    "# Définir les paramètres de connexion\n",
    "db_user = \"postgres\"        # Remplacez par votre utilisateur\n",
    "db_password = \"admin\"       # Mot de passe de la base\n",
    "db_host = \"localhost\"       # Hôte (localhost ou IP de Docker)\n",
    "db_port = \"15435\"           # Port exposé par le container\n",
    "db_name = \"mart_db\"         # Nom de la base de données\n",
    "\n",
    "# Connexion à la base de données\n",
    "try:\n",
    "    engine = create_engine(f\"postgresql+psycopg2://{db_user}:{db_password}@{db_host}:{db_port}/{db_name}\")\n",
    "    print(\"Connexion réussie à la base de données\")\n",
    "except Exception as e:\n",
    "    print(f\"Erreur de connexion : {e}\")\n"
   ]
  },
  {
   "cell_type": "code",
   "execution_count": 2,
   "id": "e325bbd3-68c3-46cf-95b9-7f9c10b8af2b",
   "metadata": {},
   "outputs": [
    {
     "name": "stdout",
     "output_type": "stream",
     "text": [
      "  table_name\n",
      "0  locations\n",
      "1   payments\n",
      "2      rides\n"
     ]
    }
   ],
   "source": [
    "# Lister les tables disponibles\n",
    "query = \"\"\"\n",
    "SELECT table_name\n",
    "FROM information_schema.tables\n",
    "WHERE table_schema = 'public';\n",
    "\"\"\"\n",
    "tables = pd.read_sql(query, engine)\n",
    "\n",
    "# Afficher les tables disponibles\n",
    "print(tables)\n"
   ]
  },
  {
   "cell_type": "code",
   "execution_count": 3,
   "id": "65bbeb0a-d883-4a00-aafc-5a2281a516c1",
   "metadata": {},
   "outputs": [
    {
     "name": "stdout",
     "output_type": "stream",
     "text": [
      "   location_id location_name location_type\n",
      "0            1            75        Pickup\n",
      "1            2           247        Pickup\n",
      "2            3            13        Pickup\n",
      "3            4           144        Pickup\n",
      "4            5           121        Pickup\n",
      "5            6            93        Pickup\n",
      "6            7            94        Pickup\n",
      "7            8            34        Pickup\n",
      "8            9           182        Pickup\n",
      "9           10           115        Pickup\n"
     ]
    }
   ],
   "source": [
    "# Charger les premières lignes de la table locations\n",
    "query = \"SELECT * FROM locations LIMIT 10\"\n",
    "locations_data = pd.read_sql(query, engine)\n",
    "\n",
    "# Afficher les données\n",
    "print(locations_data)\n"
   ]
  },
  {
   "cell_type": "code",
   "execution_count": 4,
   "id": "13256ac9-3f0d-4388-a40b-80e1a0fe7b51",
   "metadata": {},
   "outputs": [
    {
     "name": "stdout",
     "output_type": "stream",
     "text": [
      "   payment_id  payment_type  tip_amount  tolls_amount  congestion_surcharge  \\\n",
      "0           1             1        0.50          0.00                   0.0   \n",
      "1           2             1       14.68          6.94                   2.5   \n",
      "2           3             1       13.36          6.94                   0.0   \n",
      "3           4             1       29.48          0.00                   0.0   \n",
      "4           5             1       25.55          6.94                   2.5   \n",
      "5           6             0        4.81          6.94                   NaN   \n",
      "6           7             0        2.84          0.00                   NaN   \n",
      "7           8             2        0.00        -21.69                   0.0   \n",
      "8           9             1       11.05         14.75                   0.0   \n",
      "9          10             1       13.57         11.19                   2.5   \n",
      "\n",
      "   airport_fee  \n",
      "0         1.75  \n",
      "1         0.00  \n",
      "2         1.75  \n",
      "3         1.75  \n",
      "4         1.75  \n",
      "5          NaN  \n",
      "6          NaN  \n",
      "7         0.00  \n",
      "8         0.00  \n",
      "9         1.75  \n"
     ]
    }
   ],
   "source": [
    "# Charger les premières lignes de la table payments\n",
    "query = \"SELECT * FROM payments LIMIT 10\"\n",
    "payments_data = pd.read_sql(query, engine)\n",
    "\n",
    "# Afficher les données\n",
    "print(payments_data)\n"
   ]
  },
  {
   "cell_type": "code",
   "execution_count": 5,
   "id": "bced579c-42fc-42b8-94f7-767132552e3b",
   "metadata": {},
   "outputs": [
    {
     "name": "stdout",
     "output_type": "stream",
     "text": [
      "   ride_id vendorid tpep_pickup_datetime tpep_dropoff_datetime  trip_distance  \\\n",
      "0  2965134     None  2024-01-01 05:53:38   2024-01-01 06:03:32           2.19   \n",
      "1  2964862     None  2024-01-01 01:05:39   2024-01-01 01:18:44           2.52   \n",
      "2  2964625     None  2024-01-01 13:38:11   2024-01-01 13:50:04           2.20   \n",
      "3  2964783     None  2024-01-01 00:34:51   2024-01-01 01:13:46           5.24   \n",
      "4  2965457     None  2024-01-01 02:10:02   2024-01-01 02:14:12           0.90   \n",
      "5  2965133     None  2024-01-01 11:59:41   2024-01-01 12:08:07           1.36   \n",
      "6  2965522     None  2024-01-01 03:53:48   2024-01-01 04:01:28           0.87   \n",
      "7  2965595     None  2024-01-01 11:02:46   2024-01-01 11:07:11           0.60   \n",
      "8  2965432     None  2024-01-01 00:50:47   2024-01-01 01:05:04           2.64   \n",
      "9  2965294     None  2024-01-01 15:51:04   2024-01-01 15:56:25           1.65   \n",
      "\n",
      "  ratecodeid  passenger_count fare_amount  total_amount  pickup_location_id  \\\n",
      "0       None                1        None         21.36                 239   \n",
      "1       None                1        None         23.88                 231   \n",
      "2       None                1        None         20.40                 226   \n",
      "3       None                1        None         49.08                 249   \n",
      "4       None                1        None         12.12                  65   \n",
      "5       None                1        None         15.00                 186   \n",
      "6       None                1        None         14.60                 114   \n",
      "7       None                1        None         12.10                 141   \n",
      "8       None                1        None         21.63                 170   \n",
      "9       None                2        None         15.30                 229   \n",
      "\n",
      "   dropoff_location_id payment_id  payment_type  \n",
      "0                  140       None             1  \n",
      "1                  234       None             1  \n",
      "2                  112       None             1  \n",
      "3                  145       None             1  \n",
      "4                   49       None             1  \n",
      "5                  107       None             1  \n",
      "6                  232       None             1  \n",
      "7                  237       None             1  \n",
      "8                  141       None             1  \n",
      "9                  237       None             1  \n"
     ]
    }
   ],
   "source": [
    "# Charger les premières lignes de la table rides\n",
    "query = \"SELECT * FROM rides LIMIT 10\"\n",
    "rides_data = pd.read_sql(query, engine)\n",
    "\n",
    "# Afficher les données\n",
    "print(rides_data)\n"
   ]
  },
  {
   "cell_type": "code",
   "execution_count": 6,
   "id": "8518d019-8664-412a-8f76-1c6a2adcc798",
   "metadata": {},
   "outputs": [
    {
     "name": "stdout",
     "output_type": "stream",
     "text": [
      "            ride_id           tpep_pickup_datetime  \\\n",
      "count  1.000000e+01                             10   \n",
      "mean   2.965184e+06     2024-01-01 06:42:02.700000   \n",
      "min    2.964625e+06            2024-01-01 00:34:51   \n",
      "25%    2.964930e+06  2024-01-01 01:21:44.750000128   \n",
      "50%    2.965214e+06            2024-01-01 04:53:43   \n",
      "75%    2.965451e+06  2024-01-01 11:45:27.249999872   \n",
      "max    2.965595e+06            2024-01-01 15:51:04   \n",
      "std    3.355533e+02                            NaN   \n",
      "\n",
      "            tpep_dropoff_datetime  trip_distance  passenger_count  \\\n",
      "count                          10      10.000000        10.000000   \n",
      "mean   2024-01-01 06:53:51.300000       2.017000         1.100000   \n",
      "min           2024-01-01 01:05:04       0.600000         1.000000   \n",
      "25%           2024-01-01 01:32:36       1.015000         1.000000   \n",
      "50%           2024-01-01 05:02:30       1.920000         1.000000   \n",
      "75%           2024-01-01 11:52:53       2.440000         1.000000   \n",
      "max           2024-01-01 15:56:25       5.240000         2.000000   \n",
      "std                           NaN       1.342875         0.316228   \n",
      "\n",
      "       total_amount  pickup_location_id  dropoff_location_id  payment_type  \n",
      "count     10.000000           10.000000            10.000000          10.0  \n",
      "mean      20.547000          185.000000           163.400000           1.0  \n",
      "min       12.100000           65.000000            49.000000           1.0  \n",
      "25%       14.700000          148.250000           119.000000           1.0  \n",
      "50%       17.850000          206.000000           143.000000           1.0  \n",
      "75%       21.562500          230.500000           233.500000           1.0  \n",
      "max       49.080000          249.000000           237.000000           1.0  \n",
      "std       10.868556           61.777378            67.348513           0.0  \n",
      "ride_id                   0\n",
      "vendorid                 10\n",
      "tpep_pickup_datetime      0\n",
      "tpep_dropoff_datetime     0\n",
      "trip_distance             0\n",
      "ratecodeid               10\n",
      "passenger_count           0\n",
      "fare_amount              10\n",
      "total_amount              0\n",
      "pickup_location_id        0\n",
      "dropoff_location_id       0\n",
      "payment_id               10\n",
      "payment_type              0\n",
      "dtype: int64\n"
     ]
    }
   ],
   "source": [
    "# Statistiques descriptives pour rides\n",
    "print(rides_data.describe())\n",
    "\n",
    "# Vérifier les valeurs manquantes\n",
    "print(rides_data.isnull().sum())\n"
   ]
  },
  {
   "cell_type": "code",
   "execution_count": 7,
   "id": "77762263-c1c1-4190-889d-30782d0544dc",
   "metadata": {},
   "outputs": [
    {
     "name": "stdout",
     "output_type": "stream",
     "text": [
      "  location_type  total_locations\n",
      "0       Dropoff              261\n",
      "1        Pickup              520\n"
     ]
    }
   ],
   "source": [
    "query = \"\"\"\n",
    "SELECT location_type, COUNT(*) AS total_locations\n",
    "FROM locations\n",
    "GROUP BY location_type\n",
    "\"\"\"\n",
    "location_summary = pd.read_sql(query, engine)\n",
    "print(location_summary)\n"
   ]
  },
  {
   "cell_type": "code",
   "execution_count": 8,
   "id": "1f375a7f-a3de-41b9-ab15-8a2d62537cab",
   "metadata": {},
   "outputs": [
    {
     "name": "stdout",
     "output_type": "stream",
     "text": [
      "   payment_type  total_payments\n",
      "0             0            3393\n",
      "1             1           20876\n",
      "2             3             190\n",
      "3             4             484\n",
      "4             2             672\n"
     ]
    }
   ],
   "source": [
    "query = \"\"\"\n",
    "SELECT payment_type, COUNT(*) AS total_payments\n",
    "FROM payments\n",
    "GROUP BY payment_type\n",
    "\"\"\"\n",
    "payment_summary = pd.read_sql(query, engine)\n",
    "print(payment_summary)\n"
   ]
  },
  {
   "cell_type": "code",
   "execution_count": 13,
   "id": "93fa16d5-6dcf-437f-a32f-c0fe10064a19",
   "metadata": {},
   "outputs": [
    {
     "name": "stdout",
     "output_type": "stream",
     "text": [
      "       month  avg_distance  avg_revenue_per_ride\n",
      "0 2024-01-01      3.732297             27.329516\n",
      "1 2024-02-01      4.083333             30.156667\n"
     ]
    }
   ],
   "source": [
    "query = \"\"\"\n",
    "SELECT \n",
    "    DATE_TRUNC('month', tpep_pickup_datetime) AS month,\n",
    "    AVG(trip_distance) AS avg_distance,\n",
    "    AVG(total_amount) AS avg_revenue_per_ride\n",
    "FROM rides\n",
    "WHERE \n",
    "    tpep_pickup_datetime BETWEEN '2024-01-01' AND '2024-12-31' -- Filtrer uniquement sur l'année 2024\n",
    "    AND total_amount > 0                                      -- Exclure les trajets avec un montant de 0 ou négatif\n",
    "    AND trip_distance > 0                                     -- Exclure les trajets sans distance\n",
    "GROUP BY month\n",
    "ORDER BY month;\n",
    "\"\"\"\n",
    "filtered_monthly_analysis = pd.read_sql(query, engine)\n",
    "print(filtered_monthly_analysis)\n"
   ]
  },
  {
   "cell_type": "code",
   "execution_count": null,
   "id": "e0e28583-3c92-4c94-b6d4-f3a0f6e6e381",
   "metadata": {},
   "outputs": [],
   "source": []
  }
 ],
 "metadata": {
  "kernelspec": {
   "display_name": "Python 3 (ipykernel)",
   "language": "python",
   "name": "python3"
  },
  "language_info": {
   "codemirror_mode": {
    "name": "ipython",
    "version": 3
   },
   "file_extension": ".py",
   "mimetype": "text/x-python",
   "name": "python",
   "nbconvert_exporter": "python",
   "pygments_lexer": "ipython3",
   "version": "3.12.7"
  }
 },
 "nbformat": 4,
 "nbformat_minor": 5
}
